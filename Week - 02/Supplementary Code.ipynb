{
 "cells": [
  {
   "cell_type": "markdown",
   "id": "c827dfff",
   "metadata": {},
   "source": [
    "# Attention Mechanism"
   ]
  },
  {
   "cell_type": "code",
   "execution_count": 33,
   "id": "12c354f4",
   "metadata": {},
   "outputs": [],
   "source": [
    "import torch\n",
    "inputs = torch.tensor(\n",
    "    [[0.43, 0.15, 0.89], # Your (x^1)\n",
    "    [0.55, 0.87, 0.66], # journey (x^2)\n",
    "    [0.57, 0.85, 0.64], # starts (x^3)\n",
    "    [0.22, 0.58, 0.33], # with (x^4)\n",
    "    [0.77, 0.25, 0.10], # one (x^5)\n",
    "    [0.05, 0.80, 0.55]] # step (x^6)\n",
    ")"
   ]
  },
  {
   "cell_type": "markdown",
   "id": "c3114602",
   "metadata": {},
   "source": [
    "Computing attention scores"
   ]
  },
  {
   "cell_type": "code",
   "execution_count": 34,
   "id": "cce09384",
   "metadata": {},
   "outputs": [
    {
     "name": "stdout",
     "output_type": "stream",
     "text": [
      "tensor([0.9544, 1.4950, 1.4754, 0.8434, 0.7070, 1.0865])\n"
     ]
    }
   ],
   "source": [
    "query = inputs[1]                               # python indexing starts with 0\n",
    "attn_scores_2 = torch.empty(inputs.shape[0])    # an empty tensor array to store attention score values\n",
    "for i, x_i in enumerate(inputs):\n",
    "    attn_scores_2[i] = torch.dot(x_i, query)    # dot product of each tensor with query\n",
    "print(attn_scores_2)"
   ]
  },
  {
   "cell_type": "code",
   "execution_count": 35,
   "id": "5044f0dd",
   "metadata": {},
   "outputs": [
    {
     "name": "stdout",
     "output_type": "stream",
     "text": [
      "tensor(6.5617)\n"
     ]
    }
   ],
   "source": [
    "print(attn_scores_2.sum())"
   ]
  },
  {
   "cell_type": "markdown",
   "id": "888cb689",
   "metadata": {},
   "source": [
    "Normalizing the attention scores"
   ]
  },
  {
   "cell_type": "code",
   "execution_count": 9,
   "id": "ee85aa94",
   "metadata": {},
   "outputs": [
    {
     "name": "stdout",
     "output_type": "stream",
     "text": [
      "tensor([0.1455, 0.2278, 0.2249, 0.1285, 0.1077, 0.1656])\n",
      "tensor(1.0000)\n"
     ]
    }
   ],
   "source": [
    "attn_scores_2_sum = attn_scores_2.sum()\n",
    "attn_weights_2 = torch.empty(inputs.shape[0])\n",
    "for idx, attn_score in enumerate(attn_scores_2):\n",
    "    attn_weights_2[idx] = attn_score/attn_scores_2_sum\n",
    "\n",
    "print(attn_weights_2)\n",
    "print(attn_weights_2.sum())"
   ]
  },
  {
   "cell_type": "markdown",
   "id": "8050a039",
   "metadata": {},
   "source": [
    "Applying softmax"
   ]
  },
  {
   "cell_type": "code",
   "execution_count": 36,
   "id": "1aa3e88a",
   "metadata": {},
   "outputs": [
    {
     "name": "stdout",
     "output_type": "stream",
     "text": [
      "tensor([0.1385, 0.2379, 0.2333, 0.1240, 0.1082, 0.1581])\n",
      "tensor(1.)\n"
     ]
    }
   ],
   "source": [
    "attn_weights_2_softmax = torch.softmax(attn_scores_2, dim=-1)\n",
    "print(attn_weights_2_softmax)\n",
    "print(attn_weights_2_softmax.sum())"
   ]
  },
  {
   "cell_type": "code",
   "execution_count": null,
   "id": "44fb5245",
   "metadata": {},
   "outputs": [],
   "source": []
  }
 ],
 "metadata": {
  "kernelspec": {
   "display_name": "hugging-face",
   "language": "python",
   "name": "python3"
  },
  "language_info": {
   "codemirror_mode": {
    "name": "ipython",
    "version": 3
   },
   "file_extension": ".py",
   "mimetype": "text/x-python",
   "name": "python",
   "nbconvert_exporter": "python",
   "pygments_lexer": "ipython3",
   "version": "3.11.11"
  }
 },
 "nbformat": 4,
 "nbformat_minor": 5
}
